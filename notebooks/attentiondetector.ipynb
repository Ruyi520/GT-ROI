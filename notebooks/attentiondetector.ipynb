{
 "cells": [
  {
   "cell_type": "markdown",
   "metadata": {},
   "source": [
    "# Gaze vector estimation and visualization\n",
    "\n",
    "This notebook is a reference to _Paper: gaze estimation using a camera-based model in a classroom_ for running preliminary analysis on a webcam.\n",
    "To run this notebook, a built-in webcam and good lighting is required. Meanwhile, some operating systems may require additional firewall settings to gain camera access. We make use of opencv's library to perform video processing and analysis for prelimninary tests on gaze capture.\n",
    "\n",
    "Our gaze estimation application can be sectioned into:\n",
    " - Data pre-processing (face and eye detection)\n",
    " - Head pose classifiers (Euler angles: 𝛼,𝜃,𝜔) or reference plane\n",
    " - Attention boundary/matrix\n",
    " - Depth estimation function\n",
    " - Composition and visualization of gaze vector frequencies\n",
    "Here, our model is primarily based on the relibility of our pre-trained face/eye detection(haarcascades). This dependency may undermine overall perfomance at scale. We aim to detect and identify multiple candidates in each frame of the image in order to estimate head and iris orientation."
   ]
  },
  {
   "cell_type": "markdown",
   "metadata": {},
   "source": [
    "## Display video files\n",
    "A sample video input stream for opening video files and obtaining frame properties"
   ]
  },
  {
   "cell_type": "code",
   "execution_count": null,
   "metadata": {},
   "outputs": [],
   "source": [
    "from cv2 import cv2\n",
    "import os\n",
    "\n",
    "videopath = '../data/glasses.mp4'\n",
    "video = cv2.VideoCapture(videopath)\n",
    "while video.isOpened():\n",
    "    ret, frame = video.read()\n",
    "    cv2.imshow('frame', frame)\n",
    "    \"\"\"fps = video.get(cv2.CAP_PROP_FPS)\n",
    "    width = video.get(cv2.CAP_PROP_FRAME_WIDTH)\n",
    "    height = video.get(cv2.CAP_PROP_FRAME_HEIGHT)\n",
    "    timestamp = video.get(cv2.CAP_PROP_POS_MSEC)\"\"\"\n",
    "    if cv2.waitKey(25)== ord('q'):\n",
    "        video.release()\n",
    "        cv2.destroyAllWindows()\n",
    "        break"
   ]
  },
  {
   "cell_type": "markdown",
   "metadata": {},
   "source": [
    "# Face and eye detection\n",
    "We detect each faces per frame using the _frontal view haarcascade classifier_. Gaze vector is a function of the eye coordinates relative to its' reference plane **RP** (which is addressed in Section 2). Afterwards, the face frame object is passed to the eye classifier. In the following two cells, we extract faces and iris coordinates shown in bounding boxes."
   ]
  },
  {
   "cell_type": "code",
   "execution_count": 2,
   "metadata": {},
   "outputs": [
    {
     "name": "stdout",
     "output_type": "stream",
     "text": [
      "/Users/Neo/Documents/Documents - lars’s MacBook Pro/Thesis Project/notebooks\n"
     ]
    }
   ],
   "source": [
    "#We create our library dependecies and global variables for our little test algorithm for a face and eye tracker\n",
    "import cv2, time, os\n",
    "import PIL.Image\n",
    "from IPython.display import clear_output\n",
    "import numpy as np\n",
    "import dlib\n",
    "import matplotlib.pyplot as plt\n",
    "\n",
    "print(os.getcwd())\n",
    "path01 = '../data/haarcascades'\n",
    "path02 = \"../iris-tracker-by-contours/shape_predictor_68_face_landmarks.dat\"\n",
    "\n",
    "#We create our pre-trained cascade objects for face and eye\n",
    "f = \"haarcascade_frontalface_default.xml\"\n",
    "e = \"haarcascade_eye.xml\"\n",
    "le = \"haarcascade_lefteye_2splits\"\n",
    "re = \"haarcascade_righteye_2splits\"\n",
    "\n",
    "face_cascade = cv2.CascadeClassifier(os.path.join(path,f))\n",
    "eye_cascade = cv2.CascadeClassifier(os.path.join(path,e))\n",
    "le_cascade = cv2.CascadeClassifier(os.path.join(path,le))\n",
    "re_cascade = cv2.CascadeClassifier(os.path.join(path,re))"
   ]
  },
  {
   "cell_type": "code",
   "execution_count": null,
   "metadata": {},
   "outputs": [],
   "source": [
    "import dlib\n",
    "import time\n",
    "import cv2\n",
    "import numpy as np\n",
    "import numpy.linalg"
   ]
  },
  {
   "cell_type": "code",
   "execution_count": 2,
   "metadata": {},
   "outputs": [
    {
     "ename": "NameError",
     "evalue": "name 'face_utils' is not defined",
     "output_type": "error",
     "traceback": [
      "\u001b[0;31m---------------------------------------------------------------------------\u001b[0m",
      "\u001b[0;31mNameError\u001b[0m                                 Traceback (most recent call last)",
      "\u001b[0;32m<ipython-input-2-29bc940b02ae>\u001b[0m in \u001b[0;36m<module>\u001b[0;34m\u001b[0m\n\u001b[1;32m     12\u001b[0m \u001b[0mpredictor\u001b[0m \u001b[0;34m=\u001b[0m \u001b[0mdlib\u001b[0m\u001b[0;34m.\u001b[0m\u001b[0mshape_predictor\u001b[0m\u001b[0;34m(\u001b[0m\u001b[0;34m\"../iris-tracker-by-contours/shape_predictor_68_face_landmarks.dat\"\u001b[0m\u001b[0;34m)\u001b[0m\u001b[0;34m\u001b[0m\u001b[0;34m\u001b[0m\u001b[0m\n\u001b[1;32m     13\u001b[0m \u001b[0;34m\u001b[0m\u001b[0m\n\u001b[0;32m---> 14\u001b[0;31m \u001b[0mlStart\u001b[0m\u001b[0;34m,\u001b[0m \u001b[0mlEnd\u001b[0m \u001b[0;34m=\u001b[0m \u001b[0mface_utils\u001b[0m\u001b[0;34m.\u001b[0m\u001b[0mFACIAL_LANDMARKS_IDXS\u001b[0m\u001b[0;34m[\u001b[0m\u001b[0;34m\"left_eye\"\u001b[0m\u001b[0;34m]\u001b[0m\u001b[0;34m\u001b[0m\u001b[0;34m\u001b[0m\u001b[0m\n\u001b[0m\u001b[1;32m     15\u001b[0m \u001b[0mrStart\u001b[0m\u001b[0;34m,\u001b[0m \u001b[0mrEnd\u001b[0m \u001b[0;34m=\u001b[0m \u001b[0mface_utils\u001b[0m\u001b[0;34m.\u001b[0m\u001b[0mFACIAL_LANDMARKS_IDXS\u001b[0m\u001b[0;34m[\u001b[0m\u001b[0;34m\"right_eye\"\u001b[0m\u001b[0;34m]\u001b[0m\u001b[0;34m\u001b[0m\u001b[0;34m\u001b[0m\u001b[0m\n\u001b[1;32m     16\u001b[0m \u001b[0;34m\u001b[0m\u001b[0m\n",
      "\u001b[0;31mNameError\u001b[0m: name 'face_utils' is not defined"
     ]
    }
   ],
   "source": [
    "vs = cv2.VideoCapture(0)\n",
    "numerator=0\n",
    "denominator=0\n",
    "\n",
    "#Instantiate frontal face detector\n",
    "face_detector = dlib.get_frontal_face_detector()\n",
    "predictor = dlib.shape_predictor(\"../iris-tracker-by-contours/shape_predictor_68_face_landmarks.dat\")\n",
    "\n",
    "lStart, lEnd = face_utils.FACIAL_LANDMARKS_IDXS[\"left_eye\"]\n",
    "rStart, rEnd = face_utils.FACIAL_LANDMARKS_IDXS[\"right_eye\"]\n",
    "\n",
    "#We define a fun eye aspect ratio function EAR()\n",
    "def EAR(eye):\n",
    "    # compute the euclidean distances between the two sets of\n",
    "    # vertical eye landmarks (x, y)-coordinates\n",
    "    A = np.linalg.norm(eye[1] - eye[5])\n",
    "    B = np.linalg.norm(eye[2] - eye[4])\n",
    "\n",
    "    # compute the euclidean distance between the horizontal\n",
    "    # eye landmark (x, y)-coordinates\n",
    "    C = np.linalg.norm(eye[0] - eye[3])\n",
    "\n",
    "    # compute the eye aspect ratio\n",
    "    ear = (A + B) / (2.0 * C)\n",
    "\n",
    "    # return the eye aspect ratio\n",
    "    return ear\n",
    "\n",
    "while True:\n",
    "    _,frame = vs.read()\n",
    "    roi = frame\n",
    "    gray = cv2.cvtColor(frame, cv2.COLOR_BGR2GRAY)\n",
    "    \n",
    "    # detect dlib face rectangles\n",
    "    faces = detector(gray, 0)\n",
    "\n",
    "    for face in faces:\n",
    "        eyes = []\n",
    "        \n",
    "        # convert dlib rect to a bounding box\n",
    "        (x,y,w,h) = face_utils.rect_to_bb(face)\n",
    "        \n",
    "        # print(x,y,w,h)\n",
    "        xc,yc = (x+w/2,y+h/2)\n",
    "        radius = (w**2+h**2)**0.5\n",
    "        \n",
    "        #cv2.rectangle(frame,(x,y),(x+w,y+h),(255,0,0),1)\n",
    "        cv2.circle(frame,(xc,yc), radius, (255,0,0), thickness=1)\n",
    "\n",
    "        # get the landmarks from dlib, convert to np array\n",
    "        shape = predictor(gray, face)\n",
    "        shape = face_utils.shape_to_np(shape)\n",
    "        \n",
    "        # indexes for left and right eye key points\n",
    "        leftEye = shape[lStart:lEnd]  \n",
    "        rightEye = shape[rStart:rEnd]\n",
    "\n",
    "        eyes.append(leftEye)  #wrap in a list\n",
    "        eyes.append(rightEye)\n",
    "        \n",
    "        # save the state of both eyes to print\n",
    "        both_eyes_state = []\n",
    "\n",
    "        # loop through both eyes\n",
    "        for index, eye in enumerate(eyes):\n",
    "\n",
    "            eye_EAR = eye_aspect_ratio(eye)\n",
    "\n",
    "            single_eye_state = []  # first entry is eye index, second entry is the closed or eye direction state\n",
    "\n",
    "            left_side_eye = eye[0]  # left edge of eye\n",
    "            right_side_eye = eye[3]  # right edge of eye\n",
    "            top_side_eye = eye[1]  # top side of eye\n",
    "            bottom_side_eye = eye[4]  # bottom side of eye\n",
    "\n",
    "            # calculate height and width of dlib eye keypoints\n",
    "            eye_width = right_side_eye[0] - left_side_eye[0]\n",
    "            eye_height = bottom_side_eye[1] - top_side_eye[1]\n",
    "\n",
    "            # create bounding box with buffer around keypoints\n",
    "            eye_x1 = int(left_side_eye[0] - 0 * eye_width)  # .25 works well too\n",
    "            eye_x2 = int(right_side_eye[0] + 0 * eye_height)  # .75 works well too\n",
    "\n",
    "            eye_y1 = int(top_side_eye[1] - 1 * eye_height)\n",
    "            eye_y2 = int(bottom_side_eye[1] + 1 * eye_height)\n",
    "\n",
    "            # draw bounding box around eye roi\n",
    "            cv2.rectangle(frame,(eye_x1, eye_y1), (eye_x2, eye_y2),(0,255,0),2)\n",
    "\n",
    "            # draw the circles for the eye landmarks\n",
    "            for i in eye:\n",
    "                cv2.circle(frame, tuple(i), 3, (0, 0, 255), -1)\n",
    "\n",
    "        #------------ estimation of distance of the human from camera--------------#\n",
    "            # d=10920.0/float(w)\n",
    "\n",
    "            roi = frame[eye_y1:eye_y2,eye_x1:eye_x2]\n",
    "\n",
    "            #  ---------    check if eyes open   -------------  #\n",
    "\n",
    "            # state is open/close, or direction looking\n",
    "            eye_state = None\n",
    "\n",
    "            if eye_EAR > 0.25:\n",
    "\n",
    "                #  ---------    find center of pupil   -------------  #\n",
    "\n",
    "                gray=cv2.cvtColor(roi,cv2.COLOR_BGR2GRAY)  # grey scale convert\n",
    "                blur = cv2.medianBlur(gray,5) # blue image to find the iris better\n",
    "                equ = cv2.equalizeHist(blur)  # ie, improve contrast by spreading the range over the same window of intensity\n",
    "                thres=cv2.inRange(equ,0,15)  # threshold the contour edges, higher number means more will be black\n",
    "                kernel = np.ones((3,3),np.uint8)  # placeholder\n",
    "\n",
    "            #     #/------- removing small noise inside the white image ---------/#\n",
    "                dilation = cv2.dilate(thres,kernel,iterations = 2)\n",
    "            #     #/------- decreasing the size of the white region -------------/#\n",
    "                erosion = cv2.erode(dilation,kernel,iterations = 3)\n",
    "            #     #/-------- finding the contours -------------------------------/#\n",
    "                image, contours, hierarchy = cv2.findContours(erosion,cv2.RETR_TREE,cv2.CHAIN_APPROX_NONE)\n",
    "            #     #--------- checking for 2 contours found or not ----------------#\n",
    "\n",
    "                pupil_found = None\n",
    "\n",
    "                if len(contours)==2 :\n",
    "                    # print('2 contours found')\n",
    "                    pupil_found = True\n",
    "\n",
    "                    img = cv2.drawContours(roi, contours, 1, (0,255,0), 3)\n",
    "                    #------ finding the centroid of the contour ----------------#\n",
    "                    M = cv2.moments(contours[1])\n",
    "\n",
    "                    if M['m00']!=0:\n",
    "                        cx = int(M['m10']/M['m00'])\n",
    "                        cy = int(M['m01']/M['m00'])\n",
    "                        cv2.line(roi,(cx,cy),(cx,cy),(0,0,255),3)\n",
    "                        # print(cx,cy)\n",
    "                #-------- checking for one contour present --------------------#\n",
    "\n",
    "                if len(contours)==1:\n",
    "                    pupil_found = True\n",
    "                    # print('only 1 contour found ------- ')\n",
    "\n",
    "                    img = cv2.drawContours(roi, contours, 0, (0,255,0), 3)\n",
    "\n",
    "                    #------- finding centroid of the contour ----#\n",
    "                    M = cv2.moments(contours[0])\n",
    "                    if M['m00']!=0:\n",
    "                        cx = int(M['m10']/M['m00'])\n",
    "                        cy = int(M['m01']/M['m00'])\n",
    "                        # print(cx,cy)\n",
    "                        cv2.line(roi,(cx,cy),(cx,cy),(0,0,255),3)\n",
    "\n",
    "                if pupil_found:\n",
    "                    # find ratio of distance from each side of the eye bounding box\n",
    "                    # to get quantify direction of pupil\n",
    "\n",
    "                    width_ratio = cx / eye_width\n",
    "                    height_ratio = cy / (eye_y2 - eye_y1)  # make sure to use bounding box height\n",
    "\n",
    "                    if (width_ratio < 0.4):\n",
    "                        print('Looking right')\n",
    "                        single_eye_state.append(index)\n",
    "                        single_eye_state.append('Right')\n",
    "                    elif (width_ratio > 0.6):\n",
    "                        print('Looking left')\n",
    "                        single_eye_state.append(index)\n",
    "                        single_eye_state.append('Left')\n",
    "                    elif (height_ratio < 0.35):\n",
    "                        print('Looking up')\n",
    "                        single_eye_state.append(index)\n",
    "                        single_eye_state.append('Up')\n",
    "                    else:\n",
    "                        print('Looking forward')\n",
    "                        single_eye_state.append(index)\n",
    "                        single_eye_state.append('Forward')\n",
    "\n",
    "                # eyes are opened, but pupils not found\n",
    "                else:\n",
    "                    print('Pupil not found')\n",
    "                    single_eye_state.append(index)\n",
    "                    single_eye_state.append('No pupil found')\n",
    "\n",
    "                # doens't really work because it appears eyes are closed when\n",
    "                # looking down\n",
    "                # if (height_ratio > 0.50):\n",
    "                #     print('Looking down')\n",
    "\n",
    "            # if height / width < 0.3, then eye is closed, or person is looking down\n",
    "            else:\n",
    "                single_eye_state.append(index)\n",
    "                single_eye_state.append('Closed')\n",
    "\n",
    "            # end loop for one eye\n",
    "            both_eyes_state.append(single_eye_state)\n",
    "\n",
    "        # end loop for one face\n",
    "        # write state for both eyes\n",
    "\n",
    "        for ind, eye in enumerate(both_eyes_state):\n",
    "            # print(eye)\n",
    "            eye_num = ['Left', 'Right']\n",
    "            # text = 'Hello'\n",
    "            text = '{} eye is looking:  {}'.format(eye_num[ind], eye[1])\n",
    "\n",
    "            cv2.putText(frame, text, (50, 50*(ind+1)), \\\n",
    "                cv2.FONT_HERSHEY_SIMPLEX, 1.5, (0, 0, 255), 2)\n",
    "\n",
    "    cv2.imshow(\"frame\",frame)\n",
    "    # if the `q` key was pressed, break from the loop\n",
    "    key = cv2.waitKey(1) & 0xFF\n",
    "    if key == ord(\"q\"):\n",
    "        break\n",
    "vs.release()\n",
    "# print(\"accurracy=\",(float(numerator)/float(numerator+denominator))*100)\n",
    "cv2.destroyAllWindows()"
   ]
  },
  {
   "cell_type": "code",
   "execution_count": null,
   "metadata": {},
   "outputs": [],
   "source": [
    "#We create our eye class which contain our eye coordinates\n",
    "class Eye():\n",
    "    def __init__(self,x, y, x2, y2):\n",
    "        self.x = x\n",
    "        self.y = y\n",
    "        self.x2 = x2\n",
    "        self.y2 = y2\n",
    "        self.width = x2 - x\n",
    "        self.height = y2 - y\n",
    "        self.topcorner = (x, y)\n",
    "        self.bottomcorner = (x2, y2)\n",
    "\n",
    "def detect_eyes(image, classifierObject_e):\n",
    "    eyes = classifierObject_e.detectMultiScale(image)\n",
    "    right_eye = None\n",
    "    left_eye = None\n",
    "    \n",
    "    if eyes is not None:\n",
    "        for eye in eyes:\n",
    "            x, y = (eye[0], eye[1])\n",
    "            x2, y2 = (eye[0]+eye[2], eye[1] + eye[3])\n",
    "            \n",
    "            if right_eye is None:\n",
    "                right_eye = Eye(x,y,x2,y2)\n",
    "                continue\n",
    "            else:\n",
    "                left_eye = Eye(x,y,x2,y2)\n",
    "                break\n",
    "    return right_eye, left_eye"
   ]
  },
  {
   "cell_type": "code",
   "execution_count": 6,
   "metadata": {},
   "outputs": [
    {
     "ename": "RuntimeError",
     "evalue": "Unexpected version found while deserializing dlib::shape_predictor.",
     "output_type": "error",
     "traceback": [
      "\u001b[0;31m---------------------------------------------------------------------------\u001b[0m",
      "\u001b[0;31mRuntimeError\u001b[0m                              Traceback (most recent call last)",
      "\u001b[0;32m<ipython-input-6-479c562f7c56>\u001b[0m in \u001b[0;36m<module>\u001b[0;34m\u001b[0m\n\u001b[1;32m     47\u001b[0m \u001b[0;34m\u001b[0m\u001b[0m\n\u001b[1;32m     48\u001b[0m     \u001b[0mdetector\u001b[0m \u001b[0;34m=\u001b[0m \u001b[0mdlib\u001b[0m\u001b[0;34m.\u001b[0m\u001b[0mget_frontal_face_detector\u001b[0m\u001b[0;34m(\u001b[0m\u001b[0;34m)\u001b[0m\u001b[0;34m\u001b[0m\u001b[0;34m\u001b[0m\u001b[0m\n\u001b[0;32m---> 49\u001b[0;31m     \u001b[0mpredictor\u001b[0m \u001b[0;34m=\u001b[0m \u001b[0mdlib\u001b[0m\u001b[0;34m.\u001b[0m\u001b[0mshape_predictor\u001b[0m\u001b[0;34m(\u001b[0m\u001b[0;34m\"../data/shape_predictor_68_face_landmarks.dat\"\u001b[0m\u001b[0;34m)\u001b[0m\u001b[0;34m\u001b[0m\u001b[0;34m\u001b[0m\u001b[0m\n\u001b[0m\u001b[1;32m     50\u001b[0m \u001b[0;34m\u001b[0m\u001b[0m\n\u001b[1;32m     51\u001b[0m     \u001b[0;31m#Returns a 1 X 4 array with bounding box coordinates(x, y , w, h) of detected faces of\u001b[0m\u001b[0;34m\u001b[0m\u001b[0;34m\u001b[0m\u001b[0;34m\u001b[0m\u001b[0m\n",
      "\u001b[0;31mRuntimeError\u001b[0m: Unexpected version found while deserializing dlib::shape_predictor."
     ]
    }
   ],
   "source": [
    "\n",
    "cap = cv2.VideoCapture(0)\n",
    "while(cap.isOpened()):\n",
    "    ret, frame = cap.read()\n",
    "    frame = cv2.flip(frame,1)\n",
    "\n",
    "    #We read each image from the stream and convert to gray scale \n",
    "    gray = cv2.cvtColor(frame, cv2.COLOR_BGR2GRAY)\n",
    "\n",
    "    #I used these to tune the input image over intensity thresholds with some built-in cv2 functions\n",
    "    \"\"\"\n",
    "    edged = cv2.Canny(gray, 30, 200)\n",
    "    thresh = cv2.threshold(blurred,60, 255, cv2.THRESH_BINARY)[1]\n",
    "    kernel = np.ones((5,5), np.uint8)\n",
    "    dilate = cv2.dilate(thresh.copy(), kernel, iterations = 2)\n",
    "    \"\"\"\n",
    "\n",
    "    detector = dlib.get_frontal_face_detector()\n",
    "    predictor = dlib.shape_predictor(\"../data/shape_predictor_68_face_landmarks.dat\")\n",
    "\n",
    "    #Returns a 1 X 4 array with bounding box coordinates(x, y , w, h) of detected faces of \n",
    "    #the image with scale factor\n",
    "    faces = face_cascade.detectMultiScale(gray,1.5, 5)\n",
    "    if faces is not None:\n",
    "        for face in faces:\n",
    "            x,y,w,h = face\n",
    "\n",
    "            #Draw a rectantle around the face\n",
    "            cv2.rectangle(frame, (x,y), (x+w, y+h), (255,0,0),3)\n",
    "\n",
    "            #Extract image of face\n",
    "            face_frame = frame[x:x+w,y:y+h]\n",
    "\n",
    "            #Detect eyes each face_frame\n",
    "            eyes = detect_eyes(frame, eye_cascade)\n",
    "\n",
    "            if eyes is not None:\n",
    "                try:\n",
    "                    cv2.rectangle(frame, eyes[0].topcorner, eyes[0].bottomcorner, (0,0,255),3)\n",
    "                    cv2.rectangle(frame, eyes[1].topcorner, eyes[1].bottomcorner, (0,255,0),3)\n",
    "                except AttributeError:\n",
    "                    continue\n",
    "            continue\n",
    "\n",
    "    cv2.imshow('frame',frame)\n",
    "    if cv2.waitKey(1) & 0xFF == ord('q'):\n",
    "         break\n",
    "\n",
    "# Release everything if job is finished\n",
    "cap.release()\n",
    "cv2.destroyAllWindows()\n"
   ]
  },
  {
   "cell_type": "code",
   "execution_count": null,
   "metadata": {},
   "outputs": [],
   "source": []
  },
  {
   "cell_type": "markdown",
   "metadata": {},
   "source": [
    "## Head pose classifiers (Euler angles: 𝛼,𝜃,𝜔) or reference plane"
   ]
  },
  {
   "cell_type": "code",
   "execution_count": 8,
   "metadata": {},
   "outputs": [],
   "source": [
    "#import boto3\n",
    "#boto3.client('rekognition')\n",
    "#boto3.client('kinesisvideo')"
   ]
  },
  {
   "cell_type": "code",
   "execution_count": null,
   "metadata": {},
   "outputs": [],
   "source": []
  },
  {
   "cell_type": "code",
   "execution_count": 4,
   "metadata": {},
   "outputs": [
    {
     "ename": "SyntaxError",
     "evalue": "invalid syntax (<ipython-input-4-18395105c7f1>, line 14)",
     "output_type": "error",
     "traceback": [
      "\u001b[0;36m  File \u001b[0;32m\"<ipython-input-4-18395105c7f1>\"\u001b[0;36m, line \u001b[0;32m14\u001b[0m\n\u001b[0;31m    model.add(Convo2D(0.5*len(height)),(3,3))\u001b[0m\n\u001b[0m        ^\u001b[0m\n\u001b[0;31mSyntaxError\u001b[0m\u001b[0;31m:\u001b[0m invalid syntax\n"
     ]
    }
   ],
   "source": [
    "#Create our head orientation estimator which comprises of three mini-classifiers (𝛼,𝜃,𝜔)\n",
    "import tensorflow as tf\n",
    "from tensorflow.keras.models import Sequential\n",
    "from tensorflow.keras.models.layers import Dense, Dropout, Activation, Flatten, Convo2D, MaxPooling2D\n",
    "from tensorflow.keras.callbacks import TensorBoard\n",
    "\n",
    "import pickle\n",
    "\n",
    "model = Sequential()\n",
    "model.add(Convo2D(image_shape, filters = ,kernel = (3,3)))\n",
    "model.add(Activation(\"relu\"))\n",
    "model.add(MaxPooling2D(pool_size=(2,2))\n",
    "\n",
    "model.add(Convo2D(0.5*len(height)),(3,3))\n",
    "model.add(Activation(\"relu\"))\n",
    "model.add(Maxpooling2D(pool_size=(2,2)))\n",
    "          \n",
    "model.add(Flatten())\n",
    "model.add(Dense(32))\n",
    "          \n",
    "model.add(Dense(4))\n",
    "model.add(Activation(\"sigmoid\"))\n",
    "          \n",
    "model.compile(loss = \"binary_crossentropy\", \n",
    "              optimizer =\"adam\", \n",
    "              metrics =['accuracy'])\n",
    "model.fit(x,y,bath_size = 32 ,validation_split =0.2)\n",
    "\n"
   ]
  },
  {
   "cell_type": "code",
   "execution_count": 1,
   "metadata": {},
   "outputs": [
    {
     "ename": "ModuleNotFoundError",
     "evalue": "No module named 'pynput'",
     "output_type": "error",
     "traceback": [
      "\u001b[0;31m---------------------------------------------------------------------------\u001b[0m",
      "\u001b[0;31mModuleNotFoundError\u001b[0m                       Traceback (most recent call last)",
      "\u001b[0;32m<ipython-input-1-07b9b95d497f>\u001b[0m in \u001b[0;36m<module>\u001b[0;34m\u001b[0m\n\u001b[1;32m      1\u001b[0m \u001b[0;31m#Annotation module for extracting on-screen cursor coordinates for classifier labels\u001b[0m\u001b[0;34m\u001b[0m\u001b[0;34m\u001b[0m\u001b[0;34m\u001b[0m\u001b[0m\n\u001b[1;32m      2\u001b[0m \u001b[0;34m\u001b[0m\u001b[0m\n\u001b[0;32m----> 3\u001b[0;31m \u001b[0;32mimport\u001b[0m \u001b[0mpynput\u001b[0m\u001b[0;34m\u001b[0m\u001b[0;34m\u001b[0m\u001b[0m\n\u001b[0m\u001b[1;32m      4\u001b[0m \u001b[0;32mfrom\u001b[0m \u001b[0mpynput\u001b[0m\u001b[0;34m.\u001b[0m\u001b[0mmouse\u001b[0m \u001b[0;32mimport\u001b[0m \u001b[0mButton\u001b[0m\u001b[0;34m,\u001b[0m \u001b[0mController\u001b[0m\u001b[0;34m\u001b[0m\u001b[0;34m\u001b[0m\u001b[0m\n\u001b[1;32m      5\u001b[0m \u001b[0mmouse\u001b[0m \u001b[0;34m=\u001b[0m \u001b[0mController\u001b[0m\u001b[0;34m(\u001b[0m\u001b[0;34m)\u001b[0m\u001b[0;34m\u001b[0m\u001b[0;34m\u001b[0m\u001b[0m\n",
      "\u001b[0;31mModuleNotFoundError\u001b[0m: No module named 'pynput'"
     ]
    }
   ],
   "source": [
    "#Annotation module for extracting on-screen cursor coordinates for classifier labels\n",
    "\n",
    "import pynput\n",
    "from pynput.mouse import Button, Controller\n",
    "mouse = Controller()\n",
    "mouse.position = (10,20)\n",
    "mouse.move(100,200)"
   ]
  },
  {
   "cell_type": "code",
   "execution_count": 29,
   "metadata": {},
   "outputs": [
    {
     "name": "stdout",
     "output_type": "stream",
     "text": [
      "6*x\n",
      "12.0\n"
     ]
    },
    {
     "data": {
      "text/plain": [
       "[<matplotlib.lines.Line2D at 0x121db9978>]"
      ]
     },
     "execution_count": 29,
     "metadata": {},
     "output_type": "execute_result"
    },
    {
     "data": {
      "image/png": "[encoded data removed]",
      "text/plain": [
       "<Figure size 432x288 with 1 Axes>"
      ]
     },
     "metadata": {
      "needs_background": "light"
     },
     "output_type": "display_data"
    }
   ],
   "source": [
    "import sympy as sp\n",
    "x = sp.Symbol('x')\n",
    "print(sp.diff(3*x**2 + 1,x))\n",
    "\n",
    "from scipy.misc import derivative\n",
    "def f(x):\n",
    "    return 3*x**2 + 1\n",
    "print(derivative(f,2.0))\n",
    "\n",
    "def d(x):\n",
    "    return derivative(f,x)\n",
    "\n",
    "%matplotlib inline\n",
    "import matplotlib.pyplot as plt\n",
    "import numpy as np\n",
    "\n",
    "y = np.linspace(-3,3)\n",
    "plt.plot(y,f(y))\n",
    "plt.plot(y,d(y))"
   ]
  },
  {
   "cell_type": "code",
   "execution_count": 2,
   "metadata": {},
   "outputs": [
    {
     "name": "stdout",
     "output_type": "stream",
     "text": [
      "Help on built-in function get_frontal_face_detector in module dlib:\n",
      "\n",
      "get_frontal_face_detector(...) method of builtins.PyCapsule instance\n",
      "    get_frontal_face_detector() -> dlib::object_detector<dlib::scan_fhog_pyramid<dlib::pyramid_down<6u>, dlib::default_fhog_feature_extractor> >\n",
      "    \n",
      "    Returns the default face detector\n",
      "\n"
     ]
    }
   ],
   "source": [
    "import dlib\n",
    "help(dlib.get_frontal_face_detector)\n",
    "detector = dlib.get_frontal_face_detector()\n",
    "predictor = dlib.shape_predictor()"
   ]
  },
  {
   "cell_type": "code",
   "execution_count": null,
   "metadata": {},
   "outputs": [],
   "source": []
  },
  {
   "cell_type": "code",
   "execution_count": null,
   "metadata": {},
   "outputs": [],
   "source": [
    "                                             "
   ]
  }
 ],
 "metadata": {
  "kernelspec": {
   "display_name": "Python 3",
   "language": "python",
   "name": "python3"
  },
  "language_info": {
   "codemirror_mode": {
    "name": "ipython",
    "version": 3
   },
   "file_extension": ".py",
   "mimetype": "text/x-python",
   "name": "python",
   "nbconvert_exporter": "python",
   "pygments_lexer": "ipython3",
   "version": "3.7.6"
  }
 },
 "nbformat": 4,
 "nbformat_minor": 2
}
