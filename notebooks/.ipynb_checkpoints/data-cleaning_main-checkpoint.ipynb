{
 "cells": [
  {
   "cell_type": "markdown",
   "metadata": {},
   "source": [
    "\n",
    "# Data Preprocessing\n",
    "\n",
    "* Head orientation coordinate matching in CSV file\n",
    "* Image sourcing, resize and match with allocated timestamped label\n",
    "* Eye coordinates using an iris detector \n",
    "* Bounding boxes using a pretrained model \n",
    "* Geometric parameters of objects within environment"
   ]
  },
  {
   "cell_type": "code",
   "execution_count": 12,
   "metadata": {},
   "outputs": [
    {
     "name": "stdout",
     "output_type": "stream",
     "text": [
      "(4395, 4)\n",
      "(2722, 4)\n"
     ]
    }
   ],
   "source": [
    "import numpy as np\n",
    "import pandas as pd\n",
    "import os, os.path\n",
    "import cv2\n",
    "import import_ipynb\n",
    "#from attentiondetector import *\n",
    "\n",
    "#We read our labels from two cvs files and do some conversions. The video frames \n",
    "#are read from our directory into our data genrators. We create our dataframe and \n",
    "#add our columned-labels from a pretrained classifier to create our head orientation labels\n",
    "\n",
    "#We curate our labels from two cvs files of shape(4395, 4) and (2722, 4) respectively.\n",
    "data_path01 = \"../data/unclean_label/clean_label/clean_label01.csv\"\n",
    "data_path02 = \"../data/unclean_label/clean_label/clean_label02.csv\"\n",
    "unclean_label = \"../data/unclean_label/unclean_label.csv\"\n",
    "\n",
    "def convert_dtype(path):\n",
    "    data = pd.read_csv(path)\n",
    "    df = pd.DataFrame(data)\n",
    "    df = df.iloc[:,4:8]\n",
    "    df = df.dropna(axis=0,how='any')\n",
    "    df = np.array(df,dtype='int64')\n",
    "    for i in df:\n",
    "        for j in i:\n",
    "            j = j.astype('int')\n",
    "    return df\n",
    "df1 = convert_dtype(data_path01)\n",
    "df2 = convert_dtype(data_path02)\n",
    "\n",
    "print(df1.shape)\n",
    "print(df2.shape)"
   ]
  },
  {
   "cell_type": "code",
   "execution_count": 13,
   "metadata": {},
   "outputs": [
    {
     "name": "stdout",
     "output_type": "stream",
     "text": [
      "[[1582947215462             0             0             0]\n",
      " [1582947215465             0             0             0]\n",
      " [1582947215469             0             0             0]\n",
      " ...\n",
      " [1583028965938           -20             7           -56]\n",
      " [1583028965949           -20             7           -56]\n",
      " [1583028965959           -20             7           -56]]\n"
     ]
    }
   ],
   "source": [
    "df = np.concatenate([df1,df2])\n",
    "print(df)"
   ]
  },
  {
   "cell_type": "code",
   "execution_count": 14,
   "metadata": {},
   "outputs": [
    {
     "name": "stdout",
     "output_type": "stream",
     "text": [
      "6885\n"
     ]
    }
   ],
   "source": [
    "from collections import OrderedDict\n",
    "#We convert our labels to a dictionary with the timestamp as keys and PRY as values\n",
    "\n",
    "Dict = OrderedDict()\n",
    "for i in df:\n",
    "    timestamp = int((i[0])/10)\n",
    "    Dict[timestamp] = [i[1],i[2],i[3]]\n",
    "\n",
    "print(len(Dict.keys()))\n"
   ]
  },
  {
   "cell_type": "code",
   "execution_count": 43,
   "metadata": {},
   "outputs": [
    {
     "name": "stdout",
     "output_type": "stream",
     "text": [
      "This is number:1 video\n",
      "This is number:2 video\n",
      "3523\n"
     ]
    }
   ],
   "source": [
    "import cv2\n",
    "import os,os.path\n",
    "import numpy as np\n",
    "\n",
    "v_path = \"../data/unclean_data/clean\"\n",
    "\n",
    "#An arrary of timestamps of the first frame of each video is recorded for calculating all frames timestamp\n",
    "TS = [158294721650,158302893900]\n",
    "\n",
    "#This function takes a video path and returns an array of timestamp of len(vid_path)\n",
    "def get_timestamps(vid_path,start_time):\n",
    "    video = cv2.VideoCapture(vid_path)\n",
    "    FC = int(video.get(cv2.CAP_PROP_FRAME_COUNT))\n",
    "    timestamps = []\n",
    "    count = 0\n",
    "    while video.isOpened():\n",
    "        ret,frame = video.read()\n",
    "        frame = np.array(frame)\n",
    "        #cv2.imwrite('../data/tf_data/{}.jpg'.format(count), frame)\n",
    "        FTS = video.get(cv2.CAP_PROP_POS_MSEC)\n",
    "        timestamp = int(start_time + FTS/10)\n",
    "        timestamps.append(timestamp)\n",
    "        count+=1\n",
    "        if count== FC: break\n",
    "    return timestamps\n",
    "\n",
    "data_TS = []\n",
    "\n",
    "#We call our get_timestamps function on each video in our cwd\n",
    "count1 = 0\n",
    "for j in os.listdir(v_path):\n",
    "    if j.endswith(\".mp4\"):\n",
    "        videopath = os.path.join(v_path,j)\n",
    "        print(\"This is number:{} video\".format(count1+1))\n",
    "        timestamp_arr = get_timestamps(videopath,TS[count1])\n",
    "        data_TS.extend(timestamp_arr)\n",
    "        count1+=1                                                                             \n",
    "    else:\n",
    "        continue\n",
    "\n",
    "\n",
    "data_TS = np.array(data_TS).flatten()\n",
    "print(len(data_TS))\n",
    " "
   ]
  },
  {
   "cell_type": "code",
   "execution_count": null,
   "metadata": {},
   "outputs": [],
   "source": []
  },
  {
   "cell_type": "code",
   "execution_count": 51,
   "metadata": {},
   "outputs": [
    {
     "name": "stdout",
     "output_type": "stream",
     "text": [
      "3523\n",
      "6885\n",
      "3523\n"
     ]
    }
   ],
   "source": [
    "import csv\n",
    "\n",
    "#Here, we match the timestamps of our frames to it's respective PRY(pitch, roll yaw) value\n",
    "\n",
    "print(len(data_TS))\n",
    "print(len(Dict))\n",
    "\n",
    "def get_est(Dict,x):\n",
    "    for i,j in enumerate(Dict.keys()):\n",
    "        if j==x:\n",
    "            break\n",
    "        elif j<x:\n",
    "            continue\n",
    "        else:\n",
    "            break  \n",
    "    return j\n",
    "\n",
    "_match = OrderedDict()\n",
    "\n",
    "for j in data_TS:\n",
    "    if j in Dict.keys():\n",
    "        _match[j] = Dict[j]\n",
    "    else:\n",
    "        est = get_est(Dict,j)\n",
    "        _match[j] = Dict[est]\n",
    "        continue\n",
    "        \n",
    "print(len(_match))\n",
    "\n",
    "with open('../data/tf_label/labels.csv','w') as w:\n",
    "    writer = csv.writer(w)\n",
    "    writer.writerows(_match.values())"
   ]
  },
  {
   "cell_type": "code",
   "execution_count": null,
   "metadata": {},
   "outputs": [],
   "source": []
  },
  {
   "cell_type": "code",
   "execution_count": null,
   "metadata": {},
   "outputs": [],
   "source": []
  },
  {
   "cell_type": "code",
   "execution_count": 5,
   "metadata": {
    "collapsed": true
   },
   "outputs": [
    {
     "name": "stdout",
     "output_type": "stream",
     "text": [
      "158327674139\n"
     ]
    }
   ],
   "source": [
    "import time\n",
    "time = int(100*time.time())\n",
    "print(time)"
   ]
  },
  {
   "cell_type": "code",
   "execution_count": 63,
   "metadata": {},
   "outputs": [
    {
     "ename": "SyntaxError",
     "evalue": "invalid syntax (<ipython-input-63-9be78bce4723>, line 8)",
     "output_type": "error",
     "traceback": [
      "\u001b[0;36m  File \u001b[0;32m\"<ipython-input-63-9be78bce4723>\"\u001b[0;36m, line \u001b[0;32m8\u001b[0m\n\u001b[0;31m    def __init__(self, Points.x=0, Point.y=0,):\u001b[0m\n\u001b[0m                             ^\u001b[0m\n\u001b[0;31mSyntaxError\u001b[0m\u001b[0;31m:\u001b[0m invalid syntax\n"
     ]
    }
   ],
   "source": []
  },
  {
   "cell_type": "markdown",
   "metadata": {},
   "source": []
  },
  {
   "cell_type": "code",
   "execution_count": 2,
   "metadata": {},
   "outputs": [
    {
     "ename": "TypeError",
     "evalue": "argument 3 must be 2-item sequence, not int",
     "output_type": "error",
     "traceback": [
      "\u001b[0;31m---------------------------------------------------------------------------\u001b[0m",
      "\u001b[0;31mTypeError\u001b[0m                                 Traceback (most recent call last)",
      "\u001b[0;32m<ipython-input-2-51e85e7cbc4c>\u001b[0m in \u001b[0;36m<module>\u001b[0;34m\u001b[0m\n\u001b[1;32m     35\u001b[0m             \u001b[0mx\u001b[0m\u001b[0;34m,\u001b[0m\u001b[0my\u001b[0m \u001b[0;34m=\u001b[0m \u001b[0mx\u001b[0m\u001b[0;34m*\u001b[0m\u001b[0mf\u001b[0m\u001b[0;34m,\u001b[0m \u001b[0my\u001b[0m\u001b[0;34m*\u001b[0m\u001b[0mf\u001b[0m\u001b[0;34m\u001b[0m\u001b[0;34m\u001b[0m\u001b[0m\n\u001b[1;32m     36\u001b[0m             \u001b[0mpoints\u001b[0m\u001b[0;34m+=\u001b[0m\u001b[0;34m[\u001b[0m\u001b[0mcx\u001b[0m\u001b[0;34m+\u001b[0m\u001b[0mint\u001b[0m\u001b[0;34m(\u001b[0m\u001b[0mx\u001b[0m\u001b[0;34m)\u001b[0m\u001b[0;34m,\u001b[0m \u001b[0mcy\u001b[0m\u001b[0;34m+\u001b[0m\u001b[0mint\u001b[0m\u001b[0;34m(\u001b[0m\u001b[0my\u001b[0m\u001b[0;34m)\u001b[0m\u001b[0;34m]\u001b[0m\u001b[0;34m\u001b[0m\u001b[0;34m\u001b[0m\u001b[0m\n\u001b[0;32m---> 37\u001b[0;31m         \u001b[0mpygame\u001b[0m\u001b[0;34m.\u001b[0m\u001b[0mdraw\u001b[0m\u001b[0;34m.\u001b[0m\u001b[0mcircle\u001b[0m\u001b[0;34m(\u001b[0m\u001b[0mscreen\u001b[0m\u001b[0;34m,\u001b[0m\u001b[0;34m(\u001b[0m\u001b[0;36m0\u001b[0m\u001b[0;34m,\u001b[0m\u001b[0;36m0\u001b[0m\u001b[0;34m,\u001b[0m\u001b[0;36m0\u001b[0m\u001b[0;34m)\u001b[0m\u001b[0;34m,\u001b[0m \u001b[0mpoints\u001b[0m\u001b[0;34m[\u001b[0m\u001b[0;36m0\u001b[0m\u001b[0;34m]\u001b[0m\u001b[0;34m,\u001b[0m\u001b[0mpoints\u001b[0m\u001b[0;34m[\u001b[0m\u001b[0;36m1\u001b[0m\u001b[0;34m]\u001b[0m\u001b[0;34m,\u001b[0m\u001b[0;36m1\u001b[0m\u001b[0;34m)\u001b[0m\u001b[0;34m\u001b[0m\u001b[0;34m\u001b[0m\u001b[0m\n\u001b[0m\u001b[1;32m     38\u001b[0m \u001b[0;34m\u001b[0m\u001b[0m\n\u001b[1;32m     39\u001b[0m     \u001b[0mpygame\u001b[0m\u001b[0;34m.\u001b[0m\u001b[0mdisplay\u001b[0m\u001b[0;34m.\u001b[0m\u001b[0mflip\u001b[0m\u001b[0;34m(\u001b[0m\u001b[0;34m)\u001b[0m\u001b[0;34m\u001b[0m\u001b[0;34m\u001b[0m\u001b[0m\n",
      "\u001b[0;31mTypeError\u001b[0m: argument 3 must be 2-item sequence, not int"
     ]
    }
   ],
   "source": []
  },
  {
   "cell_type": "code",
   "execution_count": 1,
   "metadata": {},
   "outputs": [
    {
     "name": "stdout",
     "output_type": "stream",
     "text": [
      "pygame 1.9.6\n",
      "Hello from the pygame community. https://www.pygame.org/contribute.html\n",
      "Help on built-in function circle in module pygame.draw:\n",
      "\n",
      "circle(...)\n",
      "    circle(Surface, color, pos, radius, width=0) -> Rect\n",
      "    draw a circle around a point\n",
      "\n"
     ]
    }
   ],
   "source": []
  },
  {
   "cell_type": "code",
   "execution_count": 9,
   "metadata": {
    "collapsed": true
   },
   "outputs": [],
   "source": [
    "#import TensorFlow as tf\n",
    "import keras.\n"
   ]
  },
  {
   "cell_type": "code",
   "execution_count": 78,
   "metadata": {
    "collapsed": true
   },
   "outputs": [],
   "source": [
    "import os\n",
    "help(os)"
   ]
  },
  {
   "cell_type": "code",
   "execution_count": 61,
   "metadata": {
    "collapsed": true
   },
   "outputs": [],
   "source": [
    "import dlib\n",
    "help(dlib)\n"
   ]
  },
  {
   "cell_type": "code",
   "execution_count": 84,
   "metadata": {
    "collapsed": true
   },
   "outputs": [],
   "source": [
    "from  os import path\n",
    "os.path.join(\"/Users/Neo/opt/anaconda3/lib/python3.7\")\n",
    "import wandb\n",
    "help(wandb)"
   ]
  },
  {
   "cell_type": "code",
   "execution_count": 23,
   "metadata": {
    "collapsed": true
   },
   "outputs": [],
   "source": [
    "import os\n",
    "help(os.listdir)"
   ]
  },
  {
   "cell_type": "code",
   "execution_count": null,
   "metadata": {
    "collapsed": true
   },
   "outputs": [],
   "source": []
  }
 ],
 "metadata": {
  "kernelspec": {
   "display_name": "Python 3",
   "language": "python",
   "name": "python3"
  },
  "language_info": {
   "codemirror_mode": {
    "name": "ipython",
    "version": 3
   },
   "file_extension": ".py",
   "mimetype": "text/x-python",
   "name": "python",
   "nbconvert_exporter": "python",
   "pygments_lexer": "ipython3",
   "version": "3.7.6"
  }
 },
 "nbformat": 4,
 "nbformat_minor": 1
}
